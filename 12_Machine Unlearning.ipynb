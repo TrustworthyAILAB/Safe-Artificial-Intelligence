{
 "cells": [
  {
   "cell_type": "markdown",
   "id": "93c9a35a",
   "metadata": {},
   "source": [
    "# MNIST and CNN"
   ]
  },
  {
   "cell_type": "markdown",
   "id": "eaffa86e",
   "metadata": {},
   "source": [
    "## MNIST"
   ]
  },
  {
   "cell_type": "markdown",
   "id": "98d92dcd",
   "metadata": {},
   "source": [
    "### Load Dataset"
   ]
  },
  {
   "cell_type": "code",
   "execution_count": 1,
   "id": "4d628d59",
   "metadata": {},
   "outputs": [],
   "source": [
    "import torchvision.datasets as dsets\n",
    "import torchvision.transforms as transforms"
   ]
  },
  {
   "cell_type": "code",
   "execution_count": 2,
   "id": "0aa6a991",
   "metadata": {},
   "outputs": [],
   "source": [
    "train_data = dsets.MNIST(root='data/',\n",
    "                         train=True,\n",
    "                         transform=transforms.ToTensor(),\n",
    "                         download=True)\n",
    "\n",
    "test_data = dsets.MNIST(root='data/',\n",
    "                        train=False,\n",
    "                        transform=transforms.ToTensor(),\n",
    "                        download=True)"
   ]
  },
  {
   "cell_type": "code",
   "execution_count": 3,
   "id": "1d51afb5",
   "metadata": {},
   "outputs": [],
   "source": [
    "import matplotlib.pyplot as plt\n",
    "%matplotlib inline"
   ]
  },
  {
   "cell_type": "markdown",
   "id": "b0b8b336",
   "metadata": {},
   "source": [
    "### Make Batches"
   ]
  },
  {
   "cell_type": "code",
   "execution_count": 4,
   "id": "e95b39c9",
   "metadata": {},
   "outputs": [],
   "source": [
    "import torch\n",
    "import torch.nn as nn\n",
    "import torch.optim as optim\n",
    "from torch.utils.data import DataLoader"
   ]
  },
  {
   "cell_type": "code",
   "execution_count": 5,
   "id": "18300698",
   "metadata": {},
   "outputs": [],
   "source": [
    "batch_size = 100\n",
    "\n",
    "train_loader = DataLoader(dataset=train_data,\n",
    "                          batch_size=batch_size,\n",
    "                          shuffle=True)\n",
    "\n",
    "test_loader = DataLoader(dataset=test_data,\n",
    "                         batch_size=batch_size,\n",
    "                         shuffle=False)"
   ]
  },
  {
   "cell_type": "markdown",
   "id": "e8827893",
   "metadata": {},
   "source": [
    "## Train Model"
   ]
  },
  {
   "cell_type": "code",
   "execution_count": 6,
   "id": "45056499",
   "metadata": {},
   "outputs": [],
   "source": [
    "class CNN(nn.Module):\n",
    "    def __init__(self):\n",
    "        super(CNN, self).__init__()\n",
    "        \n",
    "        self.conv_layer = nn.Sequential(\n",
    "            nn.Conv2d(1, 16, 5), # 1x28x28 -> 16x24x24\n",
    "            nn.ReLU(),\n",
    "            nn.Conv2d(16, 32, 5), # 16x24x24 -> 32x20x20\n",
    "            nn.ReLU(),\n",
    "            nn.MaxPool2d(2, 2), # 32x20x20 -> \n",
    "            nn.Conv2d(32, 64, 5),\n",
    "            nn.ReLU(),\n",
    "            nn.MaxPool2d(2, 2)\n",
    "        )\n",
    "        \n",
    "        self.fc_layer = nn.Sequential(\n",
    "            nn.Linear(64*3*3, 100),\n",
    "            nn.ReLU(),\n",
    "            nn.Linear(100, 10)\n",
    "        )       \n",
    "        \n",
    "    def forward(self,x):\n",
    "        out = self.conv_layer(x)\n",
    "        out = out.view(-1,64*3*3)\n",
    "        out = self.fc_layer(out)\n",
    "\n",
    "        return out"
   ]
  },
  {
   "cell_type": "code",
   "execution_count": 7,
   "id": "51787254",
   "metadata": {},
   "outputs": [],
   "source": [
    "model = CNN().cuda()"
   ]
  },
  {
   "cell_type": "code",
   "execution_count": 8,
   "id": "a052fcda",
   "metadata": {},
   "outputs": [],
   "source": [
    "loss = nn.CrossEntropyLoss()\n",
    "optimizer = optim.SGD(model.parameters(), lr=0.01)"
   ]
  },
  {
   "cell_type": "code",
   "execution_count": 9,
   "id": "a862c372",
   "metadata": {},
   "outputs": [],
   "source": [
    "num_epochs = 3"
   ]
  },
  {
   "cell_type": "code",
   "execution_count": 10,
   "id": "60d2287e",
   "metadata": {
    "scrolled": false
   },
   "outputs": [
    {
     "name": "stdout",
     "output_type": "stream",
     "text": [
      "Epoch [1/3], lter [300/600], Loss: 2.2729\n",
      "Epoch [1/3], lter [600/600], Loss: 0.9598\n",
      "Epoch [2/3], lter [300/600], Loss: 0.3264\n",
      "Epoch [2/3], lter [600/600], Loss: 0.2135\n",
      "Epoch [3/3], lter [300/600], Loss: 0.3169\n",
      "Epoch [3/3], lter [600/600], Loss: 0.1264\n"
     ]
    }
   ],
   "source": [
    "for epoch in range(num_epochs):\n",
    "\n",
    "    total_batch = len(train_data) // batch_size\n",
    "\n",
    "    for i, (batch_images, batch_labels) in enumerate(train_loader):\n",
    "\n",
    "        X = batch_images.cuda()\n",
    "        Y = batch_labels.cuda()\n",
    "\n",
    "        pre = model(X)\n",
    "        cost = loss(pre, Y)\n",
    "\n",
    "        optimizer.zero_grad()\n",
    "        cost.backward()\n",
    "        optimizer.step()\n",
    "\n",
    "        if (i+1) % 300 == 0:\n",
    "            print('Epoch [%d/%d], lter [%d/%d], Loss: %.4f'\n",
    "                 %(epoch+1, num_epochs, i+1, total_batch, cost.item()))"
   ]
  },
  {
   "cell_type": "markdown",
   "id": "173a1044",
   "metadata": {},
   "source": [
    "## Machine Unlearning"
   ]
  },
  {
   "cell_type": "markdown",
   "id": "64efa888",
   "metadata": {},
   "source": [
    "### Make Forget and Retain data"
   ]
  },
  {
   "cell_type": "code",
   "execution_count": 11,
   "id": "ec46bf4e",
   "metadata": {},
   "outputs": [],
   "source": [
    "import numpy as np\n",
    "from torch.utils.data import Subset"
   ]
  },
  {
   "cell_type": "code",
   "execution_count": 12,
   "id": "762582a3",
   "metadata": {},
   "outputs": [],
   "source": [
    "targets = train_data.targets.numpy()\n",
    "forget_indices = np.where(targets == 1)[0]\n",
    "retain_indices = np.where(targets != 1)[0]"
   ]
  },
  {
   "cell_type": "code",
   "execution_count": 13,
   "id": "bc7c3c02",
   "metadata": {},
   "outputs": [],
   "source": [
    "forget_data = Subset(train_data, forget_indices)\n",
    "retain_data = Subset(train_data, retain_indices)"
   ]
  },
  {
   "cell_type": "code",
   "execution_count": 14,
   "id": "4559075d",
   "metadata": {},
   "outputs": [],
   "source": [
    "forget_loader = DataLoader(dataset=forget_data, \n",
    "                           batch_size=batch_size,\n",
    "                           shuffle=True)\n",
    "\n",
    "retain_loader = DataLoader(dataset=retain_data, \n",
    "                           batch_size=batch_size,\n",
    "                           shuffle=True)"
   ]
  },
  {
   "cell_type": "code",
   "execution_count": 15,
   "id": "588a2961",
   "metadata": {},
   "outputs": [],
   "source": [
    "@torch.no_grad()\n",
    "def evaluate(model, loader):\n",
    "    model = model.eval()\n",
    "    correct = 0\n",
    "    total = 0\n",
    "\n",
    "    for images, labels in loader:\n",
    "        images = images.cuda()\n",
    "        outputs = model(images)\n",
    "\n",
    "        _, predicted = torch.max(outputs.data, 1)\n",
    "\n",
    "        total += labels.size(0)\n",
    "        correct += (predicted == labels.cuda()).sum()\n",
    "\n",
    "    print('Accuracy of test images: %f %%' % (100 * float(correct) / total))"
   ]
  },
  {
   "cell_type": "code",
   "execution_count": 16,
   "id": "d652b306",
   "metadata": {},
   "outputs": [
    {
     "name": "stdout",
     "output_type": "stream",
     "text": [
      "- Forget:\n",
      "Accuracy of test images: 97.641649 %\n",
      "- Retain:\n",
      "Accuracy of test images: 94.693755 %\n"
     ]
    }
   ],
   "source": [
    "print(\"- Forget:\")\n",
    "evaluate(model, forget_loader)\n",
    "print(\"- Retain:\")\n",
    "evaluate(model, retain_loader)"
   ]
  },
  {
   "cell_type": "markdown",
   "id": "9085d6eb",
   "metadata": {},
   "source": [
    "### Unlearning (Finetuning)"
   ]
  },
  {
   "cell_type": "code",
   "execution_count": 17,
   "id": "d23d5f47",
   "metadata": {},
   "outputs": [],
   "source": [
    "from copy import deepcopy"
   ]
  },
  {
   "cell_type": "code",
   "execution_count": 18,
   "id": "391de892",
   "metadata": {},
   "outputs": [],
   "source": [
    "model_ft = deepcopy(model).train()\n",
    "loss = nn.CrossEntropyLoss()\n",
    "optimizer = optim.SGD(model_ft.parameters(), lr=0.01)"
   ]
  },
  {
   "cell_type": "code",
   "execution_count": 19,
   "id": "23503a1b",
   "metadata": {},
   "outputs": [],
   "source": [
    "num_epochs = 3"
   ]
  },
  {
   "cell_type": "code",
   "execution_count": 20,
   "id": "f412accb",
   "metadata": {},
   "outputs": [
    {
     "name": "stdout",
     "output_type": "stream",
     "text": [
      "Epoch [1/3], lter [300/600], Loss: 0.2435\n",
      "Epoch [2/3], lter [300/600], Loss: 0.0580\n",
      "Epoch [3/3], lter [300/600], Loss: 0.0552\n"
     ]
    }
   ],
   "source": [
    "for epoch in range(num_epochs):\n",
    "\n",
    "    total_batch = len(train_data) // batch_size\n",
    "\n",
    "    for i, (batch_images, batch_labels) in enumerate(retain_loader):  # Use retain loader\n",
    "\n",
    "        X = batch_images.cuda()\n",
    "        Y = batch_labels.cuda()\n",
    "\n",
    "        pre = model_ft(X)\n",
    "        cost = loss(pre, Y)\n",
    "\n",
    "        optimizer.zero_grad()\n",
    "        cost.backward()\n",
    "        optimizer.step()\n",
    "\n",
    "        if (i+1) % 300 == 0:\n",
    "            print('Epoch [%d/%d], lter [%d/%d], Loss: %.4f'\n",
    "                 %(epoch+1, num_epochs, i+1, total_batch, cost.item()))"
   ]
  },
  {
   "cell_type": "code",
   "execution_count": 21,
   "id": "b83feaef",
   "metadata": {},
   "outputs": [
    {
     "name": "stdout",
     "output_type": "stream",
     "text": [
      "- Forget:\n",
      "Accuracy of test images: 47.878968 %\n",
      "- Retain:\n",
      "Accuracy of test images: 97.283037 %\n"
     ]
    }
   ],
   "source": [
    "print(\"- Forget:\")\n",
    "evaluate(model_ft, forget_loader)\n",
    "print(\"- Retain:\")\n",
    "evaluate(model_ft, retain_loader)"
   ]
  },
  {
   "cell_type": "markdown",
   "id": "2ba3fe4c",
   "metadata": {},
   "source": [
    "### Unlearning (Gradient Ascent)"
   ]
  },
  {
   "cell_type": "code",
   "execution_count": 72,
   "id": "a972ed76",
   "metadata": {},
   "outputs": [],
   "source": [
    "from copy import deepcopy"
   ]
  },
  {
   "cell_type": "code",
   "execution_count": 73,
   "id": "1584d31a",
   "metadata": {},
   "outputs": [],
   "source": [
    "model_ga = deepcopy(model).train()\n",
    "loss = nn.CrossEntropyLoss()\n",
    "optimizer = optim.SGD(model_ga.parameters(), lr=0.00004)"
   ]
  },
  {
   "cell_type": "code",
   "execution_count": 74,
   "id": "416c04ff",
   "metadata": {},
   "outputs": [],
   "source": [
    "num_epochs = 2"
   ]
  },
  {
   "cell_type": "code",
   "execution_count": 75,
   "id": "8fdcb790",
   "metadata": {},
   "outputs": [],
   "source": [
    "for epoch in range(num_epochs):\n",
    "\n",
    "    total_batch = len(train_data) // batch_size\n",
    "\n",
    "    for i, (batch_images, batch_labels) in enumerate(forget_loader):  # Use forget loader\n",
    "\n",
    "        X = batch_images.cuda()\n",
    "        Y = batch_labels.cuda()\n",
    "\n",
    "        pre = model_ga(X)\n",
    "        cost = -loss(pre, Y)  # Use negative loss\n",
    "\n",
    "        optimizer.zero_grad()\n",
    "        cost.backward()\n",
    "        optimizer.step()\n",
    "\n",
    "        if (i+1) % 300 == 0:\n",
    "            print('Epoch [%d/%d], lter [%d/%d], Loss: %.4f'\n",
    "                 %(epoch+1, num_epochs, i+1, total_batch, cost.item()))"
   ]
  },
  {
   "cell_type": "code",
   "execution_count": 76,
   "id": "87c5e976",
   "metadata": {
    "scrolled": true
   },
   "outputs": [
    {
     "name": "stdout",
     "output_type": "stream",
     "text": [
      "- Forget:\n",
      "Accuracy of test images: 0.000000 %\n",
      "- Retain:\n",
      "Accuracy of test images: 71.989185 %\n"
     ]
    }
   ],
   "source": [
    "print(\"- Forget:\")\n",
    "evaluate(model_ga, forget_loader)\n",
    "print(\"- Retain:\")\n",
    "evaluate(model_ga, retain_loader)"
   ]
  }
 ],
 "metadata": {
  "kernelspec": {
   "display_name": "Python 3",
   "language": "python",
   "name": "python3"
  },
  "language_info": {
   "codemirror_mode": {
    "name": "ipython",
    "version": 3
   },
   "file_extension": ".py",
   "mimetype": "text/x-python",
   "name": "python",
   "nbconvert_exporter": "python",
   "pygments_lexer": "ipython3",
   "version": "3.8.8"
  }
 },
 "nbformat": 4,
 "nbformat_minor": 5
}
