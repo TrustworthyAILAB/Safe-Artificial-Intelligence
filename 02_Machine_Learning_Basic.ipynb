{
 "cells": [
  {
   "cell_type": "markdown",
   "id": "72d1f2b3",
   "metadata": {},
   "source": [
    "## Jupyter Basic"
   ]
  },
  {
   "cell_type": "markdown",
   "id": "caf15d7c",
   "metadata": {},
   "source": [
    "    ### Click the title to rename the file\n",
    "    ### Press 'a' while selecting a cell to add a cell above\n",
    "    ### Press 'b' while selecting a cell to add a cell below\n",
    "    ### Press 'dd' while selecting a cell to delete it\n",
    "    ### Additionally, you can cut/copy/paste/move cells\n",
    "    ### Dragging is possible while holding Shift\n",
    "    ### Press 'M' while selecting a cell to convert it to Markdown\n",
    "    ### To revert to code, use the second list box from the right below the main widget\n",
    "    ### Press Ctrl + Enter to execute\n",
    "    ### Press Shift + Enter to execute and create a new line\n",
    "    ### Various other menu options are also available"
   ]
  },
  {
   "cell_type": "markdown",
   "id": "caf15f80",
   "metadata": {},
   "source": [
    "## Machine Learning Basic"
   ]
  },
  {
   "cell_type": "markdown",
   "id": "6ac6634f",
   "metadata": {},
   "source": [
    "Predict Math score with Korean score."
   ]
  },
  {
   "cell_type": "markdown",
   "id": "b6a85d8d",
   "metadata": {},
   "source": [
    "### Raw Data"
   ]
  },
  {
   "cell_type": "code",
   "execution_count": 1,
   "id": "42be584e",
   "metadata": {},
   "outputs": [],
   "source": [
    "import numpy as np\n",
    "import pandas as pd"
   ]
  },
  {
   "cell_type": "code",
   "execution_count": 2,
   "id": "9aadc3c9",
   "metadata": {},
   "outputs": [],
   "source": [
    "data = pd.read_csv('./data/sample.csv', header=0, sep=',', encoding='euc-kr')"
   ]
  },
  {
   "cell_type": "code",
   "execution_count": 3,
   "id": "c471810a",
   "metadata": {},
   "outputs": [
    {
     "data": {
      "text/html": [
       "<div>\n",
       "<style scoped>\n",
       "    .dataframe tbody tr th:only-of-type {\n",
       "        vertical-align: middle;\n",
       "    }\n",
       "\n",
       "    .dataframe tbody tr th {\n",
       "        vertical-align: top;\n",
       "    }\n",
       "\n",
       "    .dataframe thead th {\n",
       "        text-align: right;\n",
       "    }\n",
       "</style>\n",
       "<table border=\"1\" class=\"dataframe\">\n",
       "  <thead>\n",
       "    <tr style=\"text-align: right;\">\n",
       "      <th></th>\n",
       "      <th>Name</th>\n",
       "      <th>Korean</th>\n",
       "      <th>Math</th>\n",
       "    </tr>\n",
       "  </thead>\n",
       "  <tbody>\n",
       "    <tr>\n",
       "      <th>0</th>\n",
       "      <td>Kang Daniel</td>\n",
       "      <td>10</td>\n",
       "      <td>55</td>\n",
       "    </tr>\n",
       "    <tr>\n",
       "      <th>1</th>\n",
       "      <td>Kang Dongho</td>\n",
       "      <td>60</td>\n",
       "      <td>80</td>\n",
       "    </tr>\n",
       "    <tr>\n",
       "      <th>2</th>\n",
       "      <td>Kang Mina</td>\n",
       "      <td>0</td>\n",
       "      <td>50</td>\n",
       "    </tr>\n",
       "    <tr>\n",
       "      <th>3</th>\n",
       "      <td>Kwon Hyunbin</td>\n",
       "      <td>20</td>\n",
       "      <td>60</td>\n",
       "    </tr>\n",
       "    <tr>\n",
       "      <th>4</th>\n",
       "      <td>Kim Doyeon</td>\n",
       "      <td>60</td>\n",
       "      <td>80</td>\n",
       "    </tr>\n",
       "  </tbody>\n",
       "</table>\n",
       "</div>"
      ],
      "text/plain": [
       "           Name  Korean  Math\n",
       "0   Kang Daniel      10    55\n",
       "1   Kang Dongho      60    80\n",
       "2     Kang Mina       0    50\n",
       "3  Kwon Hyunbin      20    60\n",
       "4    Kim Doyeon      60    80"
      ]
     },
     "execution_count": 3,
     "metadata": {},
     "output_type": "execute_result"
    }
   ],
   "source": [
    "data.head()"
   ]
  },
  {
   "cell_type": "code",
   "execution_count": 4,
   "id": "e005f6ec",
   "metadata": {},
   "outputs": [],
   "source": [
    "data = data[['Korean', 'Math']].values"
   ]
  },
  {
   "cell_type": "code",
   "execution_count": 5,
   "id": "bfedfbff",
   "metadata": {},
   "outputs": [
    {
     "data": {
      "text/plain": [
       "array([[10, 55],\n",
       "       [60, 80],\n",
       "       [ 0, 50],\n",
       "       [20, 60],\n",
       "       [60, 80],\n",
       "       [30, 65],\n",
       "       [60, 80],\n",
       "       [60, 80],\n",
       "       [10, 55],\n",
       "       [40, 70],\n",
       "       [70, 85],\n",
       "       [10, 55],\n",
       "       [30, 65],\n",
       "       [ 0, 50],\n",
       "       [20, 60],\n",
       "       [60, 80],\n",
       "       [90, 95],\n",
       "       [ 0, 50],\n",
       "       [ 0, 50],\n",
       "       [90, 95],\n",
       "       [10, 55],\n",
       "       [90, 95],\n",
       "       [60, 80],\n",
       "       [10, 55]], dtype=int64)"
      ]
     },
     "execution_count": 5,
     "metadata": {},
     "output_type": "execute_result"
    }
   ],
   "source": [
    "data"
   ]
  },
  {
   "cell_type": "code",
   "execution_count": 6,
   "id": "7f4ec846",
   "metadata": {},
   "outputs": [
    {
     "data": {
      "text/plain": [
       "(24, 2)"
      ]
     },
     "execution_count": 6,
     "metadata": {},
     "output_type": "execute_result"
    }
   ],
   "source": [
    "data.shape"
   ]
  },
  {
   "cell_type": "markdown",
   "id": "6c9c56c4",
   "metadata": {},
   "source": [
    "### Split Data: Train data, Test Data"
   ]
  },
  {
   "cell_type": "code",
   "execution_count": 7,
   "id": "4f81effb",
   "metadata": {},
   "outputs": [],
   "source": [
    "test_idxs = [5, 18, 22, 23]"
   ]
  },
  {
   "cell_type": "code",
   "execution_count": 8,
   "id": "632e2b2e",
   "metadata": {},
   "outputs": [],
   "source": [
    "train_idxs = [idx for idx in range(len(data)) if idx not in test_idxs]"
   ]
  },
  {
   "cell_type": "code",
   "execution_count": 9,
   "id": "343571ba",
   "metadata": {},
   "outputs": [],
   "source": [
    "train_data = data[train_idxs]"
   ]
  },
  {
   "cell_type": "code",
   "execution_count": 10,
   "id": "98fdb11b",
   "metadata": {},
   "outputs": [
    {
     "data": {
      "text/plain": [
       "array([[10, 55],\n",
       "       [60, 80],\n",
       "       [ 0, 50],\n",
       "       [20, 60],\n",
       "       [60, 80],\n",
       "       [60, 80],\n",
       "       [60, 80],\n",
       "       [10, 55],\n",
       "       [40, 70],\n",
       "       [70, 85],\n",
       "       [10, 55],\n",
       "       [30, 65],\n",
       "       [ 0, 50],\n",
       "       [20, 60],\n",
       "       [60, 80],\n",
       "       [90, 95],\n",
       "       [ 0, 50],\n",
       "       [90, 95],\n",
       "       [10, 55],\n",
       "       [90, 95]], dtype=int64)"
      ]
     },
     "execution_count": 10,
     "metadata": {},
     "output_type": "execute_result"
    }
   ],
   "source": [
    "train_data"
   ]
  },
  {
   "cell_type": "code",
   "execution_count": 11,
   "id": "c340bde4",
   "metadata": {},
   "outputs": [],
   "source": [
    "test_data = data[test_idxs]"
   ]
  },
  {
   "cell_type": "code",
   "execution_count": 12,
   "id": "8a5f2c1e",
   "metadata": {},
   "outputs": [
    {
     "data": {
      "text/plain": [
       "array([[30, 65],\n",
       "       [ 0, 50],\n",
       "       [60, 80],\n",
       "       [10, 55]], dtype=int64)"
      ]
     },
     "execution_count": 12,
     "metadata": {},
     "output_type": "execute_result"
    }
   ],
   "source": [
    "test_data"
   ]
  },
  {
   "cell_type": "markdown",
   "id": "e6e01eda",
   "metadata": {},
   "source": [
    "### Set Models"
   ]
  },
  {
   "cell_type": "code",
   "execution_count": 13,
   "id": "2bcbb60a",
   "metadata": {},
   "outputs": [],
   "source": [
    "def f(w, x):\n",
    "    return w*x"
   ]
  },
  {
   "cell_type": "code",
   "execution_count": 14,
   "id": "52a02bde",
   "metadata": {},
   "outputs": [],
   "source": [
    "w = 1.5"
   ]
  },
  {
   "cell_type": "markdown",
   "id": "2bdc0827",
   "metadata": {},
   "source": [
    "### Set Loss Function"
   ]
  },
  {
   "cell_type": "code",
   "execution_count": 15,
   "id": "7eca9ca3",
   "metadata": {},
   "outputs": [],
   "source": [
    "def loss(pre, y):\n",
    "    return ((pre-y)**2).mean()"
   ]
  },
  {
   "cell_type": "markdown",
   "id": "1e01ebe4",
   "metadata": {},
   "source": [
    "### Set Search Method"
   ]
  },
  {
   "cell_type": "code",
   "execution_count": 16,
   "id": "f929afda",
   "metadata": {},
   "outputs": [],
   "source": [
    "def search_method(loss, w):\n",
    "    if loss > 100:\n",
    "        w = w - 0.1\n",
    "    else:\n",
    "        w = w - 0.01\n",
    "    return w"
   ]
  },
  {
   "cell_type": "markdown",
   "id": "29f84ae6",
   "metadata": {},
   "source": [
    "### Split Data: Train data, Validation Data"
   ]
  },
  {
   "cell_type": "code",
   "execution_count": 17,
   "id": "6b323d6f",
   "metadata": {},
   "outputs": [],
   "source": [
    "train_len = 16\n",
    "train_idxs = np.random.choice(len(train_data), train_len, replace=False)"
   ]
  },
  {
   "cell_type": "code",
   "execution_count": 18,
   "id": "f8ca82a0",
   "metadata": {},
   "outputs": [
    {
     "data": {
      "text/plain": [
       "array([15, 13, 14, 16,  4,  6, 12,  7,  8,  2,  9, 17, 19, 18, 10,  0])"
      ]
     },
     "execution_count": 18,
     "metadata": {},
     "output_type": "execute_result"
    }
   ],
   "source": [
    "train_idxs"
   ]
  },
  {
   "cell_type": "code",
   "execution_count": 19,
   "id": "b840e4db",
   "metadata": {},
   "outputs": [],
   "source": [
    "train_data = train_data[train_idxs]"
   ]
  },
  {
   "cell_type": "code",
   "execution_count": 20,
   "id": "a1b01a65",
   "metadata": {},
   "outputs": [],
   "source": [
    "val_idxs = [idx for idx in range(len(train_data)) if idx not in train_idxs]"
   ]
  },
  {
   "cell_type": "code",
   "execution_count": 21,
   "id": "87e15a98",
   "metadata": {},
   "outputs": [
    {
     "data": {
      "text/plain": [
       "[1, 3, 5, 11]"
      ]
     },
     "execution_count": 21,
     "metadata": {},
     "output_type": "execute_result"
    }
   ],
   "source": [
    "val_idxs"
   ]
  },
  {
   "cell_type": "code",
   "execution_count": 22,
   "id": "f6df99d5",
   "metadata": {},
   "outputs": [],
   "source": [
    "val_data = train_data[val_idxs]"
   ]
  },
  {
   "cell_type": "markdown",
   "id": "fbbfb2a7",
   "metadata": {},
   "source": [
    "### Train and Validate"
   ]
  },
  {
   "cell_type": "code",
   "execution_count": 23,
   "id": "07607fb5",
   "metadata": {},
   "outputs": [
    {
     "name": "stdout",
     "output_type": "stream",
     "text": [
      "--- Step 1 ---\n",
      "Current Model: \t 1.50\n",
      "Train Loss: \t 1275.0000\n",
      "Val Loss: \t 1275.0000\n",
      "--- Step 2 ---\n",
      "Current Model: \t 1.40\n",
      "Train Loss: \t 1159.0000\n",
      "Val Loss: \t 1125.2500\n",
      "--- Step 3 ---\n",
      "Current Model: \t 1.30\n",
      "Train Loss: \t 1096.0000\n",
      "Val Loss: \t 1036.0000\n",
      "--- Step 4 ---\n",
      "Current Model: \t 1.20\n",
      "Train Loss: \t 1086.0000\n",
      "Val Loss: \t 1007.2500\n",
      "--- Step 5 ---\n",
      "Current Model: \t 1.10\n",
      "Train Loss: \t 1129.0000\n",
      "Val Loss: \t 1039.0000\n"
     ]
    }
   ],
   "source": [
    "for i in range(5):\n",
    "    x = train_data[:, 0]\n",
    "    y = train_data[:, 1]\n",
    "    \n",
    "    pre = f(w, x)\n",
    "    train_loss = loss(pre, y)\n",
    "    \n",
    "    x = val_data[:, 0]\n",
    "    y = val_data[:, 1]\n",
    "    pre = f(w, x)\n",
    "    val_loss = loss(pre, y)\n",
    "    \n",
    "    print(\"--- Step %d ---\"%(i+1))\n",
    "    print(\"Current Model: \\t %2.2f\"%(w))\n",
    "    print(\"Train Loss: \\t %2.4f\"%(train_loss))\n",
    "    print(\"Val Loss: \\t %2.4f\"%(val_loss))\n",
    "    \n",
    "    w = search_method(train_loss, w)"
   ]
  },
  {
   "cell_type": "markdown",
   "id": "d1439002",
   "metadata": {},
   "source": [
    "### Select Model"
   ]
  },
  {
   "cell_type": "code",
   "execution_count": 24,
   "id": "c0c2f6e9",
   "metadata": {},
   "outputs": [],
   "source": [
    "w_best = 1.60"
   ]
  },
  {
   "cell_type": "markdown",
   "id": "680f52b4",
   "metadata": {},
   "source": [
    "### Test Model"
   ]
  },
  {
   "cell_type": "code",
   "execution_count": 25,
   "id": "90ab7fe3",
   "metadata": {},
   "outputs": [],
   "source": [
    "x = test_data[:, 0]\n",
    "y = test_data[:, 1]\n",
    "    \n",
    "pre = f(w_best, x)"
   ]
  },
  {
   "cell_type": "code",
   "execution_count": 26,
   "id": "db0a4a0d",
   "metadata": {},
   "outputs": [
    {
     "data": {
      "text/plain": [
       "1141.5"
      ]
     },
     "execution_count": 26,
     "metadata": {},
     "output_type": "execute_result"
    }
   ],
   "source": [
    "loss(pre, y)"
   ]
  },
  {
   "cell_type": "code",
   "execution_count": 27,
   "id": "8b071aea",
   "metadata": {},
   "outputs": [
    {
     "name": "stdout",
     "output_type": "stream",
     "text": [
      "x [30  0 60 10]\n",
      "y [65 50 80 55]\n",
      "pre [48.  0. 96. 16.]\n"
     ]
    }
   ],
   "source": [
    "print(\"x\", x)\n",
    "print(\"y\", y)\n",
    "print(\"pre\", pre)"
   ]
  }
 ],
 "metadata": {
  "kernelspec": {
   "display_name": "Python 3",
   "language": "python",
   "name": "python3"
  },
  "language_info": {
   "codemirror_mode": {
    "name": "ipython",
    "version": 3
   },
   "file_extension": ".py",
   "mimetype": "text/x-python",
   "name": "python",
   "nbconvert_exporter": "python",
   "pygments_lexer": "ipython3",
   "version": "3.8.8"
  }
 },
 "nbformat": 4,
 "nbformat_minor": 5
}
