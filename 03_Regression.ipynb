{
 "cells": [
  {
   "cell_type": "markdown",
   "id": "b69e89a9",
   "metadata": {},
   "source": [
    "# Regression on Toy Data"
   ]
  },
  {
   "cell_type": "markdown",
   "id": "c2c24942",
   "metadata": {},
   "source": [
    "### Load Data"
   ]
  },
  {
   "cell_type": "code",
   "execution_count": 1,
   "id": "430b4aaf",
   "metadata": {},
   "outputs": [],
   "source": [
    "import numpy as np\n",
    "import pandas as pd"
   ]
  },
  {
   "cell_type": "code",
   "execution_count": 2,
   "id": "5eb60844",
   "metadata": {},
   "outputs": [],
   "source": [
    "data = pd.read_csv('./data/sample.csv', header=0, sep=',', encoding='euc-kr')"
   ]
  },
  {
   "cell_type": "code",
   "execution_count": 3,
   "id": "dd93801a",
   "metadata": {},
   "outputs": [],
   "source": [
    "data = data[['Korean', 'Math']].values"
   ]
  },
  {
   "cell_type": "markdown",
   "id": "6c9c56c4",
   "metadata": {},
   "source": [
    "### Split Data: Train data, Test Data"
   ]
  },
  {
   "cell_type": "code",
   "execution_count": 4,
   "id": "4f81effb",
   "metadata": {},
   "outputs": [],
   "source": [
    "test_idxs = [1, 2, 8, 19]"
   ]
  },
  {
   "cell_type": "code",
   "execution_count": 5,
   "id": "632e2b2e",
   "metadata": {},
   "outputs": [],
   "source": [
    "train_idxs = [idx for idx in range(len(data)) if idx not in test_idxs]"
   ]
  },
  {
   "cell_type": "code",
   "execution_count": 6,
   "id": "343571ba",
   "metadata": {},
   "outputs": [],
   "source": [
    "train_data = data[train_idxs]"
   ]
  },
  {
   "cell_type": "code",
   "execution_count": 7,
   "id": "c340bde4",
   "metadata": {},
   "outputs": [],
   "source": [
    "test_data = data[test_idxs]"
   ]
  },
  {
   "cell_type": "markdown",
   "id": "7478221f",
   "metadata": {},
   "source": [
    "### Set Models"
   ]
  },
  {
   "cell_type": "markdown",
   "id": "dd43efb3",
   "metadata": {},
   "source": [
    "#### Linear Regression"
   ]
  },
  {
   "cell_type": "code",
   "execution_count": 8,
   "id": "8adb624c",
   "metadata": {},
   "outputs": [],
   "source": [
    "from sklearn.linear_model import LinearRegression"
   ]
  },
  {
   "cell_type": "code",
   "execution_count": 9,
   "id": "857cd1ac",
   "metadata": {},
   "outputs": [],
   "source": [
    "model_lr = LinearRegression(fit_intercept=True) # Loss function is fixed to MSE."
   ]
  },
  {
   "cell_type": "markdown",
   "id": "c443fccb",
   "metadata": {},
   "source": [
    "#### DecisionTree"
   ]
  },
  {
   "cell_type": "code",
   "execution_count": 10,
   "id": "f7ab8fa4",
   "metadata": {},
   "outputs": [],
   "source": [
    "from sklearn.tree import DecisionTreeRegressor"
   ]
  },
  {
   "cell_type": "code",
   "execution_count": 11,
   "id": "dd3c7635",
   "metadata": {},
   "outputs": [],
   "source": [
    "model_dt = DecisionTreeRegressor(#criterion='squared_error', # latest version {“squared_error”, “absolute_error”, ...}\n",
    "                                 criterion='mse', # v=0.24 {“mse”, “mae”, ...}\n",
    "                                 splitter='best', # {“best”, “random”}\n",
    "                                 max_depth=2,\n",
    "                                 random_state=0)"
   ]
  },
  {
   "cell_type": "markdown",
   "id": "2bdc0827",
   "metadata": {},
   "source": [
    "### Set Loss Function"
   ]
  },
  {
   "cell_type": "code",
   "execution_count": 12,
   "id": "e621fc49",
   "metadata": {},
   "outputs": [],
   "source": [
    "def mse_loss(pre, y):\n",
    "    return ((pre-y)**2).mean()"
   ]
  },
  {
   "cell_type": "markdown",
   "id": "29f84ae6",
   "metadata": {},
   "source": [
    "### Split Data: Train data, Validation Data"
   ]
  },
  {
   "cell_type": "code",
   "execution_count": 13,
   "id": "6b323d6f",
   "metadata": {},
   "outputs": [],
   "source": [
    "train_len = 16\n",
    "train_idxs = np.random.choice(len(train_data), train_len, replace=False)"
   ]
  },
  {
   "cell_type": "code",
   "execution_count": 14,
   "id": "a1b01a65",
   "metadata": {},
   "outputs": [],
   "source": [
    "val_idxs = [idx for idx in range(len(train_data)) if idx not in train_idxs]"
   ]
  },
  {
   "cell_type": "code",
   "execution_count": 15,
   "id": "f6df99d5",
   "metadata": {},
   "outputs": [],
   "source": [
    "val_data = train_data[val_idxs]"
   ]
  },
  {
   "cell_type": "code",
   "execution_count": 16,
   "id": "b840e4db",
   "metadata": {},
   "outputs": [],
   "source": [
    "train_data = train_data[train_idxs]"
   ]
  },
  {
   "cell_type": "markdown",
   "id": "4ce39aa6",
   "metadata": {},
   "source": [
    "### Train and Validate"
   ]
  },
  {
   "cell_type": "code",
   "execution_count": 17,
   "id": "2156bb93",
   "metadata": {},
   "outputs": [],
   "source": [
    "models = [model_lr, model_dt]"
   ]
  },
  {
   "cell_type": "markdown",
   "id": "ee2c9fea",
   "metadata": {},
   "source": [
    "#### Train"
   ]
  },
  {
   "cell_type": "code",
   "execution_count": 18,
   "id": "142d2436",
   "metadata": {},
   "outputs": [
    {
     "name": "stdout",
     "output_type": "stream",
     "text": [
      "(16, 1) (16,)\n"
     ]
    }
   ],
   "source": [
    "x = train_data[:, 0:1]\n",
    "y = train_data[:, 1]\n",
    "\n",
    "print(x.shape, y.shape)"
   ]
  },
  {
   "cell_type": "code",
   "execution_count": 19,
   "id": "d8b777b3",
   "metadata": {},
   "outputs": [
    {
     "name": "stdout",
     "output_type": "stream",
     "text": [
      "LinearRegression() 0.0\n",
      "DecisionTreeRegressor(max_depth=2, random_state=0) 11.40625\n"
     ]
    }
   ],
   "source": [
    "for model in models:\n",
    "    model.fit(x, y)\n",
    "    pre = model.predict(x)\n",
    "    \n",
    "    loss_value = mse_loss(pre, y)\n",
    "    \n",
    "    print(model, loss_value)"
   ]
  },
  {
   "cell_type": "markdown",
   "id": "8452bf1c",
   "metadata": {},
   "source": [
    "#### Validate"
   ]
  },
  {
   "cell_type": "code",
   "execution_count": 20,
   "id": "e0056f49",
   "metadata": {},
   "outputs": [
    {
     "name": "stdout",
     "output_type": "stream",
     "text": [
      "(4, 1) (4,)\n"
     ]
    }
   ],
   "source": [
    "x = val_data[:, 0:1]\n",
    "y = val_data[:, 1]\n",
    "\n",
    "print(x.shape, y.shape)"
   ]
  },
  {
   "cell_type": "code",
   "execution_count": 21,
   "id": "b70aa25c",
   "metadata": {},
   "outputs": [
    {
     "name": "stdout",
     "output_type": "stream",
     "text": [
      "LinearRegression() 0.0\n",
      "DecisionTreeRegressor(max_depth=2, random_state=0) 2.0625\n"
     ]
    }
   ],
   "source": [
    "for model in models:\n",
    "#     model.fit(x, y)\n",
    "    pre = model.predict(x)\n",
    "    \n",
    "    loss_value = mse_loss(pre, y)\n",
    "    \n",
    "    print(model, loss_value)"
   ]
  },
  {
   "cell_type": "markdown",
   "id": "6899906c",
   "metadata": {},
   "source": [
    "#### Explain"
   ]
  },
  {
   "cell_type": "code",
   "execution_count": 22,
   "id": "4a642a04",
   "metadata": {},
   "outputs": [
    {
     "name": "stdout",
     "output_type": "stream",
     "text": [
      "w: [0.5] , b: 50.0\n"
     ]
    }
   ],
   "source": [
    "print(\"w:\", model_lr.coef_, \", b:\", model_lr.intercept_)"
   ]
  },
  {
   "cell_type": "code",
   "execution_count": 23,
   "id": "6a4b9983",
   "metadata": {},
   "outputs": [],
   "source": [
    "from sklearn.tree import export_graphviz \n",
    "export_graphviz(model_dt, out_file ='tree.txt')\n",
    "# http://webgraphviz.com/"
   ]
  },
  {
   "cell_type": "code",
   "execution_count": 24,
   "id": "dc060aec",
   "metadata": {},
   "outputs": [],
   "source": [
    "import matplotlib.pyplot as plt\n",
    "%matplotlib inline"
   ]
  },
  {
   "cell_type": "code",
   "execution_count": 25,
   "id": "ac32570f",
   "metadata": {},
   "outputs": [],
   "source": [
    "xs = np.arange(0.0, 100.0, 1).reshape(-1, 1)"
   ]
  },
  {
   "cell_type": "code",
   "execution_count": 26,
   "id": "adcd2362",
   "metadata": {},
   "outputs": [
    {
     "data": {
      "image/png": "[encoded data removed]",
      "text/plain": [
       "<Figure size 432x288 with 1 Axes>"
      ]
     },
     "metadata": {
      "needs_background": "light"
     },
     "output_type": "display_data"
    }
   ],
   "source": [
    "plt.scatter(x, y, c='k')\n",
    "plt.plot(xs, model_lr.predict(xs), c='r')\n",
    "plt.show()"
   ]
  },
  {
   "cell_type": "code",
   "execution_count": 27,
   "id": "b1e4d59c",
   "metadata": {},
   "outputs": [
    {
     "data": {
      "image/png": "[encoded data removed]",
      "text/plain": [
       "<Figure size 432x288 with 1 Axes>"
      ]
     },
     "metadata": {
      "needs_background": "light"
     },
     "output_type": "display_data"
    }
   ],
   "source": [
    "plt.scatter(x, y, c='k')\n",
    "plt.plot(xs, model_dt.predict(xs), c='r')\n",
    "plt.show()"
   ]
  },
  {
   "cell_type": "markdown",
   "id": "2c4c81bb",
   "metadata": {},
   "source": [
    "### Select Model"
   ]
  },
  {
   "cell_type": "code",
   "execution_count": 28,
   "id": "02d554a8",
   "metadata": {},
   "outputs": [],
   "source": [
    "model_best = model_lr"
   ]
  },
  {
   "cell_type": "markdown",
   "id": "680f52b4",
   "metadata": {},
   "source": [
    "### Test Model"
   ]
  },
  {
   "cell_type": "code",
   "execution_count": 29,
   "id": "90ab7fe3",
   "metadata": {},
   "outputs": [],
   "source": [
    "x = test_data[:, 0:1]\n",
    "y = test_data[:, 1]\n",
    "    \n",
    "pre = model_best.predict(x)"
   ]
  },
  {
   "cell_type": "code",
   "execution_count": 30,
   "id": "8b071aea",
   "metadata": {},
   "outputs": [
    {
     "name": "stdout",
     "output_type": "stream",
     "text": [
      "x [[60]\n",
      " [ 0]\n",
      " [10]\n",
      " [90]]\n",
      "y [80 50 55 95]\n",
      "pre [80. 50. 55. 95.]\n"
     ]
    }
   ],
   "source": [
    "print(\"x\", x)\n",
    "print(\"y\", y)\n",
    "print(\"pre\", pre)"
   ]
  },
  {
   "cell_type": "markdown",
   "id": "2f947294",
   "metadata": {},
   "source": [
    "# Regression on Real Data"
   ]
  },
  {
   "cell_type": "markdown",
   "id": "bb557c03",
   "metadata": {},
   "source": [
    "[Load the California housing dataset (regression)](https://scikit-learn.org/stable/modules/generated/sklearn.datasets.fetch_california_housing.html#sklearn.datasets.fetch_california_housing)"
   ]
  },
  {
   "cell_type": "markdown",
   "id": "9546038d",
   "metadata": {},
   "source": [
    "**Data Set Characteristics:**\n",
    "\n",
    "    :Number of Instances: 20640\n",
    "\n",
    "    :Number of Attributes: 8 numeric, predictive attributes and the target\n",
    "\n",
    "    :Attribute Information:\n",
    "        - MedInc        median income in block group\n",
    "        - HouseAge      median house age in block group\n",
    "        - AveRooms      average number of rooms per household\n",
    "        - AveBedrms     average number of bedrooms per household\n",
    "        - Population    block group population\n",
    "        - AveOccup      average number of household members\n",
    "        - Latitude      block group latitude\n",
    "        - Longitude     block group longitude\n",
    "\n",
    "    :Missing Attribute Values: None\n",
    "\n",
    "This dataset was obtained from the StatLib repository.\n",
    "https://www.dcc.fc.up.pt/~ltorgo/Regression/cal_housing.html\n",
    "\n",
    "The target variable is the median house value for California districts,\n",
    "expressed in hundreds of thousands of dollars ($100,000).\n",
    "\n",
    "This dataset was derived from the 1990 U.S. census, using one row per census\n",
    "block group. A block group is the smallest geographical unit for which the U.S.\n",
    "Census Bureau publishes sample data (a block group typically has a population\n",
    "of 600 to 3,000 people).\n",
    "\n",
    "An household is a group of people residing within a home. Since the average\n",
    "number of rooms and bedrooms in this dataset are provided per household, these\n",
    "columns may take surpinsingly large values for block groups with few households\n",
    "and many empty houses, such as vacation resorts.\n",
    "\n",
    "It can be downloaded/loaded using the\n",
    ":func:`sklearn.datasets.fetch_california_housing` function.\n",
    "\n",
    ".. topic:: References\n",
    "\n",
    "    - Pace, R. Kelley and Ronald Barry, Sparse Spatial Autoregressions,\n",
    "      Statistics and Probability Letters, 33 (1997) 291-297"
   ]
  },
  {
   "cell_type": "code",
   "execution_count": 31,
   "id": "ac99efe0",
   "metadata": {},
   "outputs": [],
   "source": [
    "from sklearn.datasets import fetch_california_housing\n",
    "california_housing = fetch_california_housing()"
   ]
  },
  {
   "cell_type": "code",
   "execution_count": 32,
   "id": "a8c544ed",
   "metadata": {},
   "outputs": [
    {
     "data": {
      "text/plain": [
       "((20640, 8), (20640,))"
      ]
     },
     "execution_count": 32,
     "metadata": {},
     "output_type": "execute_result"
    }
   ],
   "source": [
    "x = california_housing.data\n",
    "y = california_housing.target\n",
    "x.shape, y.shape"
   ]
  },
  {
   "cell_type": "markdown",
   "id": "429a8140",
   "metadata": {},
   "source": [
    "### Split Data: Train data, Validation Data"
   ]
  },
  {
   "cell_type": "code",
   "execution_count": 33,
   "id": "daf0693d",
   "metadata": {},
   "outputs": [],
   "source": [
    "import numpy as np"
   ]
  },
  {
   "cell_type": "code",
   "execution_count": 34,
   "id": "4aaa7f19",
   "metadata": {},
   "outputs": [],
   "source": [
    "train_len = 5000\n",
    "train_idxs = np.random.choice(len(x), train_len, replace=False)\n",
    "train_x = x[train_idxs]\n",
    "train_y = y[train_idxs]"
   ]
  },
  {
   "cell_type": "code",
   "execution_count": 35,
   "id": "d02e8f4c",
   "metadata": {},
   "outputs": [],
   "source": [
    "val_idxs = [idx for idx in range(len(data)) if idx not in train_idxs]\n",
    "val_x = x[val_idxs]\n",
    "val_y = y[val_idxs]"
   ]
  },
  {
   "cell_type": "markdown",
   "id": "7327922c",
   "metadata": {},
   "source": [
    "### Set Models"
   ]
  },
  {
   "cell_type": "markdown",
   "id": "e6feb469",
   "metadata": {},
   "source": [
    "#### Linear Regression"
   ]
  },
  {
   "cell_type": "code",
   "execution_count": 36,
   "id": "7e2a7272",
   "metadata": {},
   "outputs": [],
   "source": [
    "from sklearn.linear_model import LinearRegression"
   ]
  },
  {
   "cell_type": "code",
   "execution_count": 37,
   "id": "60ccdf2b",
   "metadata": {},
   "outputs": [],
   "source": [
    "model_lr = LinearRegression(fit_intercept=True) # Loss function is fixed to MSE."
   ]
  },
  {
   "cell_type": "markdown",
   "id": "d8ecafad",
   "metadata": {},
   "source": [
    "#### DecisionTree"
   ]
  },
  {
   "cell_type": "code",
   "execution_count": 38,
   "id": "b253576a",
   "metadata": {},
   "outputs": [],
   "source": [
    "from sklearn.tree import DecisionTreeRegressor"
   ]
  },
  {
   "cell_type": "code",
   "execution_count": 39,
   "id": "992e5572",
   "metadata": {},
   "outputs": [],
   "source": [
    "model_dt = DecisionTreeRegressor(#criterion='squared_error', # latest version {“squared_error”, “absolute_error”, ...}\n",
    "                                 criterion='mse', # v=0.24 {“mse”, “mae”, ...}\n",
    "                                 splitter='best', # {“best”, “random”}\n",
    "                                 max_depth=3,\n",
    "                                 random_state=0)"
   ]
  },
  {
   "cell_type": "markdown",
   "id": "181a5e49",
   "metadata": {},
   "source": [
    "### Train and Validate"
   ]
  },
  {
   "cell_type": "code",
   "execution_count": 40,
   "id": "01ee2804",
   "metadata": {},
   "outputs": [],
   "source": [
    "models = [model_lr, model_dt]"
   ]
  },
  {
   "cell_type": "code",
   "execution_count": 41,
   "id": "6d052338",
   "metadata": {},
   "outputs": [],
   "source": [
    "def mse_loss(pre, y):\n",
    "    return ((pre-y)**2).mean()"
   ]
  },
  {
   "cell_type": "markdown",
   "id": "43cfbcbb",
   "metadata": {},
   "source": [
    "#### Train"
   ]
  },
  {
   "cell_type": "code",
   "execution_count": 42,
   "id": "02f74f89",
   "metadata": {},
   "outputs": [
    {
     "name": "stdout",
     "output_type": "stream",
     "text": [
      "LinearRegression() 0.5381251494745094\n",
      "DecisionTreeRegressor(max_depth=3, random_state=0) 0.6074014242528614\n"
     ]
    }
   ],
   "source": [
    "for model in models:\n",
    "    model.fit(train_x, train_y)\n",
    "    pre = model.predict(train_x)\n",
    "    \n",
    "    loss_value = mse_loss(pre, train_y)\n",
    "    \n",
    "    print(model, loss_value)"
   ]
  },
  {
   "cell_type": "markdown",
   "id": "620c5d7f",
   "metadata": {},
   "source": [
    "#### Validate"
   ]
  },
  {
   "cell_type": "code",
   "execution_count": 43,
   "id": "29fcc8f5",
   "metadata": {},
   "outputs": [
    {
     "name": "stdout",
     "output_type": "stream",
     "text": [
      "LinearRegression() 0.17909990806540965\n",
      "DecisionTreeRegressor(max_depth=3, random_state=0) 0.28786020403341617\n"
     ]
    }
   ],
   "source": [
    "for model in models:\n",
    "#     model.fit(val_x, val_y)\n",
    "    pre = model.predict(val_x)\n",
    "    \n",
    "    loss_value = mse_loss(pre, val_y)\n",
    "    \n",
    "    print(model, loss_value)"
   ]
  },
  {
   "cell_type": "markdown",
   "id": "28c5d0a4",
   "metadata": {},
   "source": [
    "#### Explain"
   ]
  },
  {
   "cell_type": "code",
   "execution_count": 44,
   "id": "c852a478",
   "metadata": {},
   "outputs": [
    {
     "name": "stdout",
     "output_type": "stream",
     "text": [
      "w: [ 4.53732367e-01  1.14000405e-02 -1.44759293e-01  8.37694527e-01\n",
      "  1.02864714e-05 -4.02835745e-03 -4.00847300e-01 -4.10857708e-01] , b: -34.99388119396719\n"
     ]
    }
   ],
   "source": [
    "print(\"w:\", model_lr.coef_, \", b:\", model_lr.intercept_)"
   ]
  },
  {
   "cell_type": "code",
   "execution_count": 45,
   "id": "8d8975b3",
   "metadata": {},
   "outputs": [],
   "source": [
    "from sklearn.tree import export_graphviz \n",
    "export_graphviz(model_dt, out_file ='tree.txt')\n",
    "# http://webgraphviz.com/\n",
    "# or\n",
    "# https://dreampuf.github.io/GraphvizOnline"
   ]
  },
  {
   "cell_type": "markdown",
   "id": "18b97ec1",
   "metadata": {},
   "source": [
    "### Select Model"
   ]
  },
  {
   "cell_type": "code",
   "execution_count": 46,
   "id": "99878cae",
   "metadata": {},
   "outputs": [],
   "source": [
    "model_best = model_lr"
   ]
  }
 ],
 "metadata": {
  "kernelspec": {
   "display_name": "Python 3",
   "language": "python",
   "name": "python3"
  },
  "language_info": {
   "codemirror_mode": {
    "name": "ipython",
    "version": 3
   },
   "file_extension": ".py",
   "mimetype": "text/x-python",
   "name": "python",
   "nbconvert_exporter": "python",
   "pygments_lexer": "ipython3",
   "version": "3.8.8"
  }
 },
 "nbformat": 4,
 "nbformat_minor": 5
}
